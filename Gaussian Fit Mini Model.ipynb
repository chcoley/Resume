{
 "cells": [
  {
   "cell_type": "code",
   "execution_count": 1,
   "metadata": {},
   "outputs": [],
   "source": [
    "#must clear all kernel ouputs & restart before rerunning anything on page"
   ]
  },
  {
   "cell_type": "code",
   "execution_count": 1,
   "metadata": {
    "scrolled": true
   },
   "outputs": [],
   "source": [
    "import numpy as np\n",
    "from numpy import *\n",
    "import pandas as pd\n",
    "import matplotlib.pyplot as plt\n",
    "import matplotlib.mlab as mlab\n",
    "import h5py\n",
    "import datetime\n",
    "from scipy.optimize import curve_fit\n",
    "import math\n",
    "from scipy import asarray as ar,exp\n",
    "import matplotlib.pyplot as plt\n",
    "import pylab as plb\n",
    "import tqdm\n",
    "from tqdm import tqdm\n",
    "import time\n",
    "import progressbar\n",
    "import Gaussian #my module\n",
    "from Gaussian import *"
   ]
  },
  {
   "cell_type": "code",
   "execution_count": 2,
   "metadata": {},
   "outputs": [
    {
     "name": "stdout",
     "output_type": "stream",
     "text": [
      "(338636, 132)\n",
      "(338636, 2)\n"
     ]
    }
   ],
   "source": [
    "#loads dataset from other file named \"create dataset\"\n",
    "#allows for less configuration of data during initial loading\n",
    "dataset = np.load(\"OPPAC_Data/recomplied_dataset_fixed.npy\")\n",
    "all_data = dataset[ : , :132]\n",
    "all_labels = dataset[: , -2:]\n",
    "\n",
    "print(all_data.shape)\n",
    "print(all_labels.shape)"
   ]
  },
  {
   "cell_type": "code",
   "execution_count": 3,
   "metadata": {},
   "outputs": [
    {
     "name": "stdout",
     "output_type": "stream",
     "text": [
      "(338636, 33)\n",
      "(338636,)\n"
     ]
    }
   ],
   "source": [
    "#separate the test data as done above\n",
    "x1_data_all = (all_data[: , :33])\n",
    "x2_data_all = (all_data[:, 33:66])\n",
    "y1_data_all = (all_data[:, 66:99])\n",
    "y2_data_all = (all_data[:, 99:132])\n",
    "\n",
    "#labels kept so they have the same indices\n",
    "x_labels_all = all_labels[ : , 0 ]\n",
    "y_labels_all = all_labels[ : , 1 ]\n",
    "\n",
    "print(x1_data_all.shape)\n",
    "print(x_labels_all.shape)"
   ]
  },
  {
   "cell_type": "code",
   "execution_count": 4,
   "metadata": {},
   "outputs": [],
   "source": [
    "x1_data_pad = padding(x1_data_all)\n",
    "x2_data_pad = padding(x2_data_all)\n",
    "y1_data_pad = padding(y1_data_all)\n",
    "y2_data_pad = padding(y2_data_all)"
   ]
  },
  {
   "cell_type": "code",
   "execution_count": 7,
   "metadata": {},
   "outputs": [
    {
     "name": "stdout",
     "output_type": "stream",
     "text": [
      "2000\n"
     ]
    }
   ],
   "source": [
    "#set range over which you want to fit peaks\n",
    "#mainly created to look over small groups and check for bugs\n",
    "rangemin = 0\n",
    "rangemax = 2000\n",
    "\n",
    "#used below in graphs\n",
    "ranges = (rangemin, rangemax)\n",
    "range_size = rangemax - rangemin\n",
    "\n",
    "#slice data to only contain the range you set\n",
    "x1_data = x1_data_all[rangemin:rangemax]\n",
    "x2_data = x2_data_all[rangemin:rangemax]\n",
    "y1_data = y1_data_all[rangemin:rangemax]\n",
    "y2_data = y2_data_all[rangemin:rangemax]\n",
    "\n",
    "x_labels = x_labels_all[rangemin:rangemax]\n",
    "y_labels = y_labels_all[rangemin:rangemax]\n",
    "\n",
    "#check size of slice\n",
    "print(len(x_labels))"
   ]
  },
  {
   "cell_type": "code",
   "execution_count": 8,
   "metadata": {},
   "outputs": [
    {
     "name": "stderr",
     "output_type": "stream",
     "text": [
      "100%|██████████| 2000/2000 [00:13<00:00, 147.48it/s]\n"
     ]
    }
   ],
   "source": [
    "x1_peaks = fit_peaks(np.arange(0,33,1), x1_data)"
   ]
  },
  {
   "cell_type": "code",
   "execution_count": 9,
   "metadata": {},
   "outputs": [],
   "source": [
    "np.save(\"OPPAC_Data/x1_peaks_file_2\", x1_peaks)"
   ]
  },
  {
   "cell_type": "code",
   "execution_count": 10,
   "metadata": {},
   "outputs": [
    {
     "name": "stderr",
     "output_type": "stream",
     "text": [
      "100%|██████████| 2000/2000 [00:14<00:00, 135.78it/s]\n"
     ]
    }
   ],
   "source": [
    "x2_peaks = fit_peaks(np.arange(0,33,1), x2_data)"
   ]
  },
  {
   "cell_type": "code",
   "execution_count": 11,
   "metadata": {},
   "outputs": [],
   "source": [
    "np.save(\"OPPAC_Data/x2_peaks_file_2\", x2_peaks)"
   ]
  },
  {
   "cell_type": "code",
   "execution_count": 12,
   "metadata": {},
   "outputs": [
    {
     "name": "stderr",
     "output_type": "stream",
     "text": [
      "100%|██████████| 2000/2000 [00:13<00:00, 151.41it/s]\n"
     ]
    }
   ],
   "source": [
    "y1_peaks = fit_peaks(np.arange(0,33,1), y1_data)"
   ]
  },
  {
   "cell_type": "code",
   "execution_count": 13,
   "metadata": {},
   "outputs": [],
   "source": [
    "np.save(\"OPPAC_Data/y1_peaks_file_2\", y1_peaks)"
   ]
  },
  {
   "cell_type": "code",
   "execution_count": 14,
   "metadata": {},
   "outputs": [
    {
     "name": "stderr",
     "output_type": "stream",
     "text": [
      "100%|██████████| 2000/2000 [00:16<00:00, 124.57it/s]\n"
     ]
    }
   ],
   "source": [
    "y2_peaks = fit_peaks(np.arange(0,33,1), y2_data)"
   ]
  },
  {
   "cell_type": "code",
   "execution_count": 15,
   "metadata": {},
   "outputs": [],
   "source": [
    "np.save(\"OPPAC_Data/y2_peaks_file_2\", y2_peaks)"
   ]
  },
  {
   "cell_type": "code",
   "execution_count": 17,
   "metadata": {},
   "outputs": [
    {
     "name": "stdout",
     "output_type": "stream",
     "text": [
      "2000\n",
      "2000\n",
      "2000\n",
      "2000\n",
      "(2000,)\n"
     ]
    }
   ],
   "source": [
    "#importing data so I'm not running over the other kernels\n",
    "x1_peaks = np.load(\"OPPAC_Data/x1_peaks_file_2.npy\")\n",
    "x2_peaks = np.load(\"OPPAC_Data/x2_peaks_file_2.npy\")\n",
    "y1_peaks = np.load(\"OPPAC_Data/y1_peaks_file_2.npy\")\n",
    "y2_peaks = np.load(\"OPPAC_Data/y2_peaks_file_2.npy\")\n",
    "\n",
    "print(len(x1_peaks))\n",
    "print(len(x2_peaks))\n",
    "print(len(y1_peaks))\n",
    "print(len(y2_peaks))\n",
    "\n",
    "print(x1_peaks.shape)"
   ]
  },
  {
   "cell_type": "code",
   "execution_count": 18,
   "metadata": {},
   "outputs": [
    {
     "name": "stdout",
     "output_type": "stream",
     "text": [
      "0\n"
     ]
    }
   ],
   "source": [
    "x_errors = find_peak_error(x1_peaks, x2_peaks)\n",
    "y_errors = find_peak_error(y1_peaks, y2_peaks)\n",
    "\n",
    "all_error_indices = np.unique(np.concatenate([x_errors, y_errors]))\n",
    "\n",
    "all_error_indices = np.array(all_error_indices)\n",
    "np.save(\"OPPAC_Data//all_error_indices\", all_error_indices)\n",
    "print(len(all_error_indices))"
   ]
  },
  {
   "cell_type": "code",
   "execution_count": 19,
   "metadata": {},
   "outputs": [],
   "source": [
    "#removes the 10 padding change so the fit peaks can be compared to the true labels\n",
    "x1_peaks_fitting = x1_peaks - 10\n",
    "x2_peaks_fitting = x2_peaks - 10\n",
    "y1_peaks_fitting = y1_peaks - 10\n",
    "y2_peaks_fitting = y2_peaks - 10"
   ]
  },
  {
   "cell_type": "code",
   "execution_count": 20,
   "metadata": {
    "scrolled": true
   },
   "outputs": [],
   "source": [
    "x_peaks, x_peaks_mm = peak_recompile(x1_peaks, x2_peaks, all_error_indices)"
   ]
  },
  {
   "cell_type": "code",
   "execution_count": 21,
   "metadata": {},
   "outputs": [],
   "source": [
    "y_peaks, y_peaks_mm = peak_recompile(y1_peaks, y2_peaks, all_error_indices)"
   ]
  },
  {
   "cell_type": "code",
   "execution_count": 23,
   "metadata": {},
   "outputs": [
    {
     "name": "stdout",
     "output_type": "stream",
     "text": [
      "(2000, 1)\n",
      "(2000,)\n",
      "(2000, 1)\n",
      "(2000,)\n"
     ]
    }
   ],
   "source": [
    "x_labels = remove_label_indices_noresh(x_labels, all_error_indices)\n",
    "y_labels = remove_label_indices_noresh(y_labels, all_error_indices)\n",
    "\n",
    "print(x_labels.shape)\n",
    "print(x_peaks_mm.shape)\n",
    "print(y_labels.shape)\n",
    "print(y_peaks_mm.shape)"
   ]
  },
  {
   "cell_type": "code",
   "execution_count": 24,
   "metadata": {
    "scrolled": true
   },
   "outputs": [],
   "source": [
    "x_data = (x1_data + x2_data)/2\n",
    "y_data = (y1_data + y2_data)/2"
   ]
  },
  {
   "cell_type": "code",
   "execution_count": 25,
   "metadata": {},
   "outputs": [],
   "source": [
    "x_data = remove_label_indices_noresh(x_data, all_error_indices)\n",
    "y_data = remove_label_indices_noresh(y_data, all_error_indices)"
   ]
  },
  {
   "cell_type": "code",
   "execution_count": 26,
   "metadata": {},
   "outputs": [],
   "source": [
    "x1_data = remove_label_indices_noresh(x1_data, all_error_indices)\n",
    "x2_data = remove_label_indices_noresh(x2_data, all_error_indices)"
   ]
  },
  {
   "cell_type": "code",
   "execution_count": 27,
   "metadata": {},
   "outputs": [
    {
     "name": "stdout",
     "output_type": "stream",
     "text": [
      "(2000, 33)\n"
     ]
    }
   ],
   "source": [
    "print(x_data.shape)"
   ]
  },
  {
   "cell_type": "code",
   "execution_count": 28,
   "metadata": {},
   "outputs": [
    {
     "data": {
      "image/png": "[encoded data removed]",
      "text/plain": [
       "<Figure size 432x288 with 1 Axes>"
      ]
     },
     "metadata": {
      "needs_background": "light"
     },
     "output_type": "display_data"
    }
   ],
   "source": [
    "#graph showing the accuracy of gaussian fit by comparing predicted and true x values\n",
    "#should be as close to the diagonal as possible\n",
    "a = plt.axes(aspect='equal')\n",
    "\n",
    "plt.scatter(x_labels, x_peaks_mm, s=6, marker = \"x\")\n",
    "plt.xlabel('True Values')\n",
    "plt.ylabel('Predictions')\n",
    "lims = [-50, 50]\n",
    "plt.xlim(lims)\n",
    "plt.ylim(lims)\n",
    "_ = plt.plot(lims, lims, linewidth = .5)\n",
    "plt.title(\"Gaussian Fit O-PPAC X Predictions vs True X Values (events %0.0f - %0.0f)\" %tuple(ranges))\n",
    "plt.show()"
   ]
  },
  {
   "cell_type": "code",
   "execution_count": 30,
   "metadata": {},
   "outputs": [
    {
     "name": "stdout",
     "output_type": "stream",
     "text": [
      "(2000, 2000)\n",
      "1990\n"
     ]
    }
   ],
   "source": [
    "#to find the locations of largest error within my predicted x values\n",
    "#used for debugging\n",
    "x_error = np.abs(x_peaks_mm - x_labels)\n",
    "\n",
    "print(x_error.shape)\n",
    "\n",
    "problem_indices_x = [idx for (idx, err) in enumerate(x_error) if idx >= 10]\n",
    "print(len(problem_indices_x))"
   ]
  },
  {
   "cell_type": "code",
   "execution_count": 32,
   "metadata": {},
   "outputs": [
    {
     "data": {
      "image/png": "[encoded data removed]",
      "text/plain": [
       "<Figure size 432x288 with 1 Axes>"
      ]
     },
     "metadata": {
      "needs_background": "light"
     },
     "output_type": "display_data"
    }
   ],
   "source": [
    "#use to look at events which are causing error\n",
    "#used for debugging\n",
    "i = 21 #choose the index of problem_indices_x (above)\n",
    "true_x = mm_to_diodenum(x_labels[problem_indices_x[i]])\n",
    "\n",
    "plt.title('Problem Location Example (index = %5.0f)' %(problem_indices_x[i]+rangemin))\n",
    "plt.plot(x2_data[problem_indices_x[i]], linewidth = 2, label = \"x2 data\")\n",
    "plt.plot(x1_data[problem_indices_x[i]], linewidth = 2, color='orange', label = \"x1 data\")\n",
    "plt.axvline(x = x_peaks[problem_indices_x[i]], color = \"red\", linestyle=\":\",label = \"fit peak = %5.1f\" %x_peaks[problem_indices_x[i]])\n",
    "plt.axvline(x = x1_peaks[problem_indices_x[i]], color = \"black\", linewidth = 1, linestyle=\":\", label = \"x1 fit peak = %5.1f\" % x1_peaks[problem_indices_x[i]])\n",
    "plt.axvline(x = x2_peaks[problem_indices_x[i]], color = \"magenta\", linewidth = 1, linestyle=\":\", label = \"x2 fit peak = %5.1f\" % x2_peaks[problem_indices_x[i]])\n",
    "plt.axvline(x = true_x, color = \"green\", linestyle=\":\",label = \"true peak = %5.1f\" %true_x)\n",
    "plt.legend(bbox_to_anchor=(1.05, 1), loc='upper left', borderaxespad=0.)\n",
    "plt.show()"
   ]
  },
  {
   "cell_type": "code",
   "execution_count": 34,
   "metadata": {},
   "outputs": [
    {
     "data": {
      "image/png": "[encoded data removed]",
      "text/plain": [
       "<Figure size 432x288 with 1 Axes>"
      ]
     },
     "metadata": {
      "needs_background": "light"
     },
     "output_type": "display_data"
    }
   ],
   "source": [
    "#graph showing the accuracy of gaussian fit by comparing predicted and true y values\n",
    "#should be as close to the diagonal as possible\n",
    "a = plt.axes(aspect='equal')\n",
    "\n",
    "plt.scatter(y_labels, y_peaks_mm, s=6, marker = \"x\")\n",
    "plt.xlabel('True Values')\n",
    "plt.ylabel('Predictions')\n",
    "lims = [-50, 50]\n",
    "plt.xlim(lims)\n",
    "plt.ylim(lims)\n",
    "_ = plt.plot(lims, lims, linewidth = .5)\n",
    "plt.title(\"Gaussian Fit O-PPAC Y Predictions vs True Y Values (events %0.0f - %0.0f)\" %tuple(ranges))\n",
    "plt.show()"
   ]
  },
  {
   "cell_type": "code",
   "execution_count": 40,
   "metadata": {},
   "outputs": [
    {
     "name": "stdout",
     "output_type": "stream",
     "text": [
      "(2000, 2000)\n"
     ]
    },
    {
     "ename": "ValueError",
     "evalue": "The truth value of an array with more than one element is ambiguous. Use a.any() or a.all()",
     "output_type": "error",
     "traceback": [
      "\u001b[0;31m---------------------------------------------------------------------------\u001b[0m",
      "\u001b[0;31mValueError\u001b[0m                                Traceback (most recent call last)",
      "\u001b[0;32m<ipython-input-40-c64494d6a61e>\u001b[0m in \u001b[0;36m<module>\u001b[0;34m\u001b[0m\n\u001b[1;32m      5\u001b[0m \u001b[0mprint\u001b[0m\u001b[0;34m(\u001b[0m\u001b[0my_error\u001b[0m\u001b[0;34m.\u001b[0m\u001b[0mshape\u001b[0m\u001b[0;34m)\u001b[0m\u001b[0;34m\u001b[0m\u001b[0;34m\u001b[0m\u001b[0m\n\u001b[1;32m      6\u001b[0m \u001b[0;34m\u001b[0m\u001b[0m\n\u001b[0;32m----> 7\u001b[0;31m \u001b[0mproblem_indices_y\u001b[0m \u001b[0;34m=\u001b[0m \u001b[0;34m[\u001b[0m\u001b[0merr\u001b[0m \u001b[0;32mfor\u001b[0m \u001b[0;34m(\u001b[0m\u001b[0midx\u001b[0m\u001b[0;34m,\u001b[0m \u001b[0merr\u001b[0m\u001b[0;34m)\u001b[0m \u001b[0;32min\u001b[0m \u001b[0menumerate\u001b[0m\u001b[0;34m(\u001b[0m\u001b[0my_error\u001b[0m\u001b[0;34m)\u001b[0m \u001b[0;32mif\u001b[0m \u001b[0merr\u001b[0m \u001b[0;34m>=\u001b[0m \u001b[0;36m10\u001b[0m\u001b[0;34m]\u001b[0m\u001b[0;34m\u001b[0m\u001b[0;34m\u001b[0m\u001b[0m\n\u001b[0m\u001b[1;32m      8\u001b[0m \u001b[0mprint\u001b[0m\u001b[0;34m(\u001b[0m\u001b[0mlen\u001b[0m\u001b[0;34m(\u001b[0m\u001b[0mproblem_indices_y\u001b[0m\u001b[0;34m)\u001b[0m\u001b[0;34m)\u001b[0m\u001b[0;34m\u001b[0m\u001b[0;34m\u001b[0m\u001b[0m\n",
      "\u001b[0;32m<ipython-input-40-c64494d6a61e>\u001b[0m in \u001b[0;36m<listcomp>\u001b[0;34m(.0)\u001b[0m\n\u001b[1;32m      5\u001b[0m \u001b[0mprint\u001b[0m\u001b[0;34m(\u001b[0m\u001b[0my_error\u001b[0m\u001b[0;34m.\u001b[0m\u001b[0mshape\u001b[0m\u001b[0;34m)\u001b[0m\u001b[0;34m\u001b[0m\u001b[0;34m\u001b[0m\u001b[0m\n\u001b[1;32m      6\u001b[0m \u001b[0;34m\u001b[0m\u001b[0m\n\u001b[0;32m----> 7\u001b[0;31m \u001b[0mproblem_indices_y\u001b[0m \u001b[0;34m=\u001b[0m \u001b[0;34m[\u001b[0m\u001b[0merr\u001b[0m \u001b[0;32mfor\u001b[0m \u001b[0;34m(\u001b[0m\u001b[0midx\u001b[0m\u001b[0;34m,\u001b[0m \u001b[0merr\u001b[0m\u001b[0;34m)\u001b[0m \u001b[0;32min\u001b[0m \u001b[0menumerate\u001b[0m\u001b[0;34m(\u001b[0m\u001b[0my_error\u001b[0m\u001b[0;34m)\u001b[0m \u001b[0;32mif\u001b[0m \u001b[0merr\u001b[0m \u001b[0;34m>=\u001b[0m \u001b[0;36m10\u001b[0m\u001b[0;34m]\u001b[0m\u001b[0;34m\u001b[0m\u001b[0;34m\u001b[0m\u001b[0m\n\u001b[0m\u001b[1;32m      8\u001b[0m \u001b[0mprint\u001b[0m\u001b[0;34m(\u001b[0m\u001b[0mlen\u001b[0m\u001b[0;34m(\u001b[0m\u001b[0mproblem_indices_y\u001b[0m\u001b[0;34m)\u001b[0m\u001b[0;34m)\u001b[0m\u001b[0;34m\u001b[0m\u001b[0;34m\u001b[0m\u001b[0m\n",
      "\u001b[0;31mValueError\u001b[0m: The truth value of an array with more than one element is ambiguous. Use a.any() or a.all()"
     ]
    }
   ],
   "source": [
    "#to find the locations of largest error within my predicted x values\n",
    "#used for debugging\n",
    "y_error = np.abs(y_peaks_mm - y_labels)\n",
    "\n",
    "print(y_error.shape)\n",
    "\n",
    "problem_indices_y = [idx for (idx, err) in enumerate(y_error) if idx >= 10]\n",
    "print(len(problem_indices_y))"
   ]
  },
  {
   "cell_type": "code",
   "execution_count": 39,
   "metadata": {},
   "outputs": [
    {
     "data": {
      "image/png": "[encoded data removed]",
      "text/plain": [
       "<Figure size 432x288 with 1 Axes>"
      ]
     },
     "metadata": {
      "needs_background": "light"
     },
     "output_type": "display_data"
    }
   ],
   "source": [
    "#graph locations of large y error (just like x error event grapher above)\n",
    "#used for debugging\n",
    "i = 0 #choose the index of the error (above)\n",
    "\n",
    "plt.title('Problem Location Example')\n",
    "plt.plot(y1_data_all[5125 + rangemin])\n",
    "plt.axvline(x = y1_peaks[problem_indices_y[i]], color = \"red\")\n",
    "plt.axvline(x = y_labels[problem_indices_y[i]], color = \"green\")\n",
    "plt.show()"
   ]
  },
  {
   "cell_type": "code",
   "execution_count": null,
   "metadata": {},
   "outputs": [],
   "source": []
  },
  {
   "cell_type": "code",
   "execution_count": null,
   "metadata": {},
   "outputs": [],
   "source": [
    "#graphs the gaussian fit of the event of your choosing; check whether something is wrong with the fit or a bug\n",
    "#used for debugging"
   ]
  },
  {
   "cell_type": "code",
   "execution_count": 57,
   "metadata": {},
   "outputs": [
    {
     "name": "stdout",
     "output_type": "stream",
     "text": [
      "[0.         0.         0.         0.         0.00357789 0.00357789\n",
      " 0.         0.         0.00357789 0.03577892 0.11807043 0.21109563\n",
      " 0.22540719 0.20393984 0.13595989 0.02862314 0.         0.\n",
      " 0.00357789 0.         0.         0.         0.         0.\n",
      " 0.         0.         0.         0.         0.         0.\n",
      " 0.         0.         0.        ]\n"
     ]
    }
   ],
   "source": [
    "#basic gaussian fit stuff; needs x and y inputs for all data points; index is both for the y data and for lower code\n",
    "index = 13\n",
    "x = np.arange(0,33,1)\n",
    "y = x1_data[index,:]\n",
    "\n",
    "print(y)\n",
    "x_labels_index = range_size - (rangemax - index)\n",
    "\n",
    "#the true location of the peak as given by the label for that event\n",
    "x_peak_true_value = ((x_labels[x_labels_index]+48)/100)*33\n",
    "x_peak_fit_value = x_peaks[x_labels_index]"
   ]
  },
  {
   "cell_type": "code",
   "execution_count": 58,
   "metadata": {},
   "outputs": [
    {
     "name": "stdout",
     "output_type": "stream",
     "text": [
      "12.017972339263155\n",
      "11.879999999999999\n",
      "12.02005948444693\n"
     ]
    }
   ],
   "source": [
    "#curve fit code; bounds might be able to be played with still to improve model (specifically sigma in index 1)\n",
    "#trying new stuff to better balance k based on the input data\n",
    "if np.max(y) > .20:\n",
    "    kvalue = np.max(y)+(np.max(y)/2)\n",
    "elif np.max(y) == 0:\n",
    "    kvalue = 1\n",
    "else:\n",
    "    kvalue = np.max(y)\n",
    "\n",
    "popt, _ = curve_fit(gaussianpdf, x, y, bounds=(0, [kvalue,10., 33.]))\n",
    "print(popt[2])\n",
    "print(x_peak_true_value)\n",
    "print(x_peak_fit_value)"
   ]
  },
  {
   "cell_type": "code",
   "execution_count": 59,
   "metadata": {},
   "outputs": [
    {
     "data": {
      "image/png": "[encoded data removed]",
      "text/plain": [
       "<Figure size 432x288 with 1 Axes>"
      ]
     },
     "metadata": {
      "needs_background": "light"
     },
     "output_type": "display_data"
    }
   ],
   "source": [
    "#plotting gaussian to make sure it looks logically correct\n",
    "plt.plot(x, gaussianpdf(x, *popt), 'g--', label='fit: k=%5.3f, sigma=%5.3f, mu=%5.3f' % tuple(popt))\n",
    "plt.plot(x1_data[index,:], label = \"data\")\n",
    "plt.axvline(x = x_peak_fit_value, color = \"black\", linewidth=.4, label='Pred Peak= %5.1f' %x_peak_fit_value)\n",
    "plt.axvline(x = x_peak_true_value, color = \"magenta\", linewidth=1, label='True Peak= %5.1f' % x_peak_true_value)\n",
    "plt.axvline(x = popt[2], color = \"red\", linewidth=.4, linestyle='dashdot', label='Fit Peak= %5.1f' %popt[2])\n",
    "plt.title('Event Number %5.0f' %index)\n",
    "plt.xlabel('Diode Number')\n",
    "plt.ylabel('Number of Detected Photons')\n",
    "plt.legend(bbox_to_anchor=(1.05, 1), loc='upper left', borderaxespad=0.)\n",
    "plt.show()"
   ]
  },
  {
   "cell_type": "code",
   "execution_count": null,
   "metadata": {},
   "outputs": [],
   "source": []
  },
  {
   "cell_type": "code",
   "execution_count": null,
   "metadata": {},
   "outputs": [],
   "source": []
  }
 ],
 "metadata": {
  "kernelspec": {
   "display_name": "Python 3",
   "language": "python",
   "name": "python3"
  },
  "language_info": {
   "codemirror_mode": {
    "name": "ipython",
    "version": 3
   },
   "file_extension": ".py",
   "mimetype": "text/x-python",
   "name": "python",
   "nbconvert_exporter": "python",
   "pygments_lexer": "ipython3",
   "version": "3.6.8"
  }
 },
 "nbformat": 4,
 "nbformat_minor": 4
}
