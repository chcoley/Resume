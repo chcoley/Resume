{
 "cells": [
  {
   "cell_type": "code",
   "execution_count": 1,
   "metadata": {},
   "outputs": [],
   "source": [
    "#This program fits the O-PPAC data onto a FCNN model\n",
    "import tensorflow as tf\n",
    "from tensorflow.keras import datasets, layers, models, metrics, Model\n",
    "from tensorflow.keras.callbacks import Callback\n",
    "from sklearn.model_selection import train_test_split\n",
    "import tensorflow_docs.plots\n",
    "import tensorflow_docs.modeling\n",
    "import numpy as np\n",
    "from numpy import *\n",
    "import pandas as pd\n",
    "import matplotlib.pyplot as plt\n",
    "from scipy.optimize import curve_fit\n",
    "import h5py\n",
    "import datetime\n",
    "import FWHM #my module\n",
    "from FWHM import *"
   ]
  },
  {
   "cell_type": "code",
   "execution_count": 2,
   "metadata": {},
   "outputs": [
    {
     "name": "stdout",
     "output_type": "stream",
     "text": [
      "(338636, 132)\n",
      "(338636, 2)\n"
     ]
    }
   ],
   "source": [
    "dataset = np.load(\"OPPAC_Data/recomplied_dataset_fixed.npy\")\n",
    "all_data = dataset[ : , :132]\n",
    "all_labels = dataset[: , -2:]\n",
    "\n",
    "print(all_data.shape)\n",
    "print(all_labels.shape)"
   ]
  },
  {
   "cell_type": "code",
   "execution_count": 3,
   "metadata": {},
   "outputs": [],
   "source": [
    "train_data, test_data, train_labels, test_labels = train_test_split(all_data, all_labels, test_size=0.2,shuffle=True)\n",
    "#splits training and test data for the FCNN; 20% set aside for testing"
   ]
  },
  {
   "cell_type": "code",
   "execution_count": 4,
   "metadata": {},
   "outputs": [
    {
     "name": "stdout",
     "output_type": "stream",
     "text": [
      "2\n",
      "(270908, 132)\n",
      "[0.         0.00684622 0.00342311 0.00342311 0.00342311 0.04107735\n",
      " 0.15746316 0.11980893 0.18827117 0.13350138 0.06161602 0.0273849\n",
      " 0.         0.         0.01026934 0.         0.         0.\n",
      " 0.         0.00342311 0.         0.         0.         0.00342311\n",
      " 0.         0.         0.         0.         0.00342311 0.\n",
      " 0.         0.         0.         0.         0.00342311 0.\n",
      " 0.         0.         0.00342311 0.00342311 0.23619474 0.52373617\n",
      " 0.17457872 0.00342311 0.         0.         0.         0.00342311\n",
      " 0.         0.         0.         0.         0.00342311 0.\n",
      " 0.         0.         0.         0.         0.         0.\n",
      " 0.         0.         0.         0.         0.         0.\n",
      " 0.00342311 0.         0.         0.00342311 0.04450046 0.13007826\n",
      " 0.18484806 0.1951174  0.17800184 0.10611648 0.02396179 0.00684622\n",
      " 0.         0.         0.00342311 0.         0.         0.\n",
      " 0.00684622 0.         0.         0.         0.         0.\n",
      " 0.         0.         0.         0.         0.         0.00342311\n",
      " 0.         0.         0.         0.         0.00342311 0.00342311\n",
      " 0.00342311 0.         0.00684622 0.36284989 0.51688994 0.08215469\n",
      " 0.00342311 0.         0.         0.         0.00342311 0.\n",
      " 0.         0.         0.         0.         0.         0.\n",
      " 0.         0.         0.         0.         0.         0.\n",
      " 0.         0.         0.         0.         0.         0.        ]\n"
     ]
    }
   ],
   "source": [
    "print(train_data.ndim)\n",
    "print(train_data.shape)\n",
    "print(train_data[0])"
   ]
  },
  {
   "cell_type": "code",
   "execution_count": 5,
   "metadata": {},
   "outputs": [],
   "source": [
    "#early stopping mechanism; can increase amount of time before stopping by increasing patience\n",
    "#callback = tf.keras.callbacks.EarlyStopping(monitor='val_loss', patience=10)\n",
    "reduce_lr = tf.keras.callbacks.ReduceLROnPlateau(monitor='val_loss', factor=0.2,\n",
    "                              patience=5,min_delta=0.0001,min_lr=0.0001)"
   ]
  },
  {
   "cell_type": "code",
   "execution_count": 6,
   "metadata": {},
   "outputs": [],
   "source": [
    "#Fully connected neural network\n",
    "#the \"layers\" are the dense hidden layers which are fully connected\n",
    "#first number changes the nodes, 2nd is the activation function, (first line has number of inputs as well)\n",
    "\n",
    "FCNN_model = tf.keras.Sequential()\n",
    "FCNN_model.add(layers.Dense(256, activation='relu', input_shape = [132]))\n",
    "FCNN_model.add(layers.Dense(256, activation = 'relu'))\n",
    "FCNN_model.add(layers.Dense(256, activation = 'relu'))\n",
    "#FCNN_model.add(layers.Dense(128, activation = 'relu'))\n",
    "#FCNN_model.add(layers.Dropout(0.2))\n",
    "FCNN_model.add(layers.Dense(2, activation = 'linear'))"
   ]
  },
  {
   "cell_type": "code",
   "execution_count": 7,
   "metadata": {},
   "outputs": [],
   "source": [
    "#compiles the FCNN and includes the learning rate as well\n",
    "FCNN_model.compile(optimizer = tf.keras.optimizers.Adam(learning_rate=0.0005), \n",
    "              loss = 'mse', \n",
    "              metrics=['mae', 'mse'])"
   ]
  },
  {
   "cell_type": "code",
   "execution_count": 8,
   "metadata": {},
   "outputs": [
    {
     "name": "stdout",
     "output_type": "stream",
     "text": [
      "Epoch 1/100\n",
      "5927/5927 [==============================] - 15s 2ms/step - loss: 26.5857 - mae: 1.7378 - mse: 26.5857 - val_loss: 0.2607 - val_mae: 0.4020 - val_mse: 0.2607\n",
      "Epoch 2/100\n",
      "5927/5927 [==============================] - 14s 2ms/step - loss: 0.2150 - mae: 0.3463 - mse: 0.2150 - val_loss: 0.1913 - val_mae: 0.3497 - val_mse: 0.1913\n",
      "Epoch 3/100\n",
      "5927/5927 [==============================] - 14s 2ms/step - loss: 0.1204 - mae: 0.2641 - mse: 0.1204 - val_loss: 0.0911 - val_mae: 0.2421 - val_mse: 0.0911\n",
      "Epoch 4/100\n",
      "5927/5927 [==============================] - 15s 2ms/step - loss: 0.0868 - mae: 0.2272 - mse: 0.0868 - val_loss: 0.0743 - val_mae: 0.2118 - val_mse: 0.0743\n",
      "Epoch 5/100\n",
      "5927/5927 [==============================] - 14s 2ms/step - loss: 0.0746 - mae: 0.2104 - mse: 0.0746 - val_loss: 0.0940 - val_mae: 0.2425 - val_mse: 0.0940\n",
      "Epoch 6/100\n",
      "5927/5927 [==============================] - 14s 2ms/step - loss: 0.0599 - mae: 0.1904 - mse: 0.0599 - val_loss: 0.0543 - val_mae: 0.1833 - val_mse: 0.0543\n",
      "Epoch 7/100\n",
      "5927/5927 [==============================] - 14s 2ms/step - loss: 0.0519 - mae: 0.1771 - mse: 0.0519 - val_loss: 0.0723 - val_mae: 0.2107 - val_mse: 0.0723\n",
      "Epoch 8/100\n",
      "5927/5927 [==============================] - 14s 2ms/step - loss: 0.0485 - mae: 0.1679 - mse: 0.0485 - val_loss: 0.0468 - val_mae: 0.1717 - val_mse: 0.0468\n",
      "Epoch 9/100\n",
      "5927/5927 [==============================] - 14s 2ms/step - loss: 0.0431 - mae: 0.1601 - mse: 0.0431 - val_loss: 0.0494 - val_mae: 0.1766 - val_mse: 0.0494\n",
      "Epoch 10/100\n",
      "5927/5927 [==============================] - 14s 2ms/step - loss: 0.0404 - mae: 0.1525 - mse: 0.0404 - val_loss: 0.0677 - val_mae: 0.2102 - val_mse: 0.0677\n",
      "Epoch 11/100\n",
      "5927/5927 [==============================] - 14s 2ms/step - loss: 0.0402 - mae: 0.1491 - mse: 0.0402 - val_loss: 0.0372 - val_mae: 0.1478 - val_mse: 0.0372\n",
      "Epoch 12/100\n",
      "5927/5927 [==============================] - 14s 2ms/step - loss: 0.0346 - mae: 0.1395 - mse: 0.0346 - val_loss: 0.0282 - val_mae: 0.1315 - val_mse: 0.0282\n",
      "Epoch 13/100\n",
      "5927/5927 [==============================] - 14s 2ms/step - loss: 0.0299 - mae: 0.1321 - mse: 0.0299 - val_loss: 0.0294 - val_mae: 0.1349 - val_mse: 0.0294\n",
      "Epoch 14/100\n",
      "5927/5927 [==============================] - 14s 2ms/step - loss: 0.0297 - mae: 0.1280 - mse: 0.0297 - val_loss: 0.0718 - val_mae: 0.2017 - val_mse: 0.0718\n",
      "Epoch 15/100\n",
      "5927/5927 [==============================] - 14s 2ms/step - loss: 0.0268 - mae: 0.1228 - mse: 0.0268 - val_loss: 0.0213 - val_mae: 0.1095 - val_mse: 0.0213\n",
      "Epoch 16/100\n",
      "5927/5927 [==============================] - 14s 2ms/step - loss: 0.0249 - mae: 0.1181 - mse: 0.0249 - val_loss: 0.0196 - val_mae: 0.1049 - val_mse: 0.0196\n",
      "Epoch 17/100\n",
      "5927/5927 [==============================] - 14s 2ms/step - loss: 0.0215 - mae: 0.1111 - mse: 0.0215 - val_loss: 0.0600 - val_mae: 0.1944 - val_mse: 0.0600\n",
      "Epoch 18/100\n",
      "5927/5927 [==============================] - 14s 2ms/step - loss: 0.0226 - mae: 0.1105 - mse: 0.0226 - val_loss: 0.0186 - val_mae: 0.1040 - val_mse: 0.0186\n",
      "Epoch 19/100\n",
      "5927/5927 [==============================] - 14s 2ms/step - loss: 0.0208 - mae: 0.1070 - mse: 0.0208 - val_loss: 0.0385 - val_mae: 0.1482 - val_mse: 0.0385\n",
      "Epoch 20/100\n",
      "5927/5927 [==============================] - 14s 2ms/step - loss: 0.0192 - mae: 0.1030 - mse: 0.0192 - val_loss: 0.0219 - val_mae: 0.1093 - val_mse: 0.0219\n",
      "Epoch 21/100\n",
      "5927/5927 [==============================] - 14s 2ms/step - loss: 0.0184 - mae: 0.0999 - mse: 0.0184 - val_loss: 0.0403 - val_mae: 0.1473 - val_mse: 0.0403\n",
      "Epoch 22/100\n",
      "5927/5927 [==============================] - 14s 2ms/step - loss: 0.0171 - mae: 0.0974 - mse: 0.0171 - val_loss: 0.0182 - val_mae: 0.0984 - val_mse: 0.0182\n",
      "Epoch 23/100\n",
      "5927/5927 [==============================] - 14s 2ms/step - loss: 0.0157 - mae: 0.0925 - mse: 0.0157 - val_loss: 0.0378 - val_mae: 0.1426 - val_mse: 0.0378\n",
      "Epoch 24/100\n",
      "5927/5927 [==============================] - 14s 2ms/step - loss: 0.0159 - mae: 0.0925 - mse: 0.0159 - val_loss: 0.0139 - val_mae: 0.0877 - val_mse: 0.0139\n",
      "Epoch 25/100\n",
      "5927/5927 [==============================] - 14s 2ms/step - loss: 0.0130 - mae: 0.0854 - mse: 0.0130 - val_loss: 0.0092 - val_mae: 0.0685 - val_mse: 0.0092\n",
      "Epoch 26/100\n",
      "5927/5927 [==============================] - 14s 2ms/step - loss: 0.0125 - mae: 0.0836 - mse: 0.0125 - val_loss: 0.0292 - val_mae: 0.1285 - val_mse: 0.0292\n",
      "Epoch 27/100\n",
      "5927/5927 [==============================] - 14s 2ms/step - loss: 0.0121 - mae: 0.0819 - mse: 0.0121 - val_loss: 0.0187 - val_mae: 0.1042 - val_mse: 0.0187\n",
      "Epoch 28/100\n",
      "5927/5927 [==============================] - 14s 2ms/step - loss: 0.0112 - mae: 0.0785 - mse: 0.0112 - val_loss: 0.0111 - val_mae: 0.0805 - val_mse: 0.0111\n",
      "Epoch 29/100\n",
      "5927/5927 [==============================] - 14s 2ms/step - loss: 0.0115 - mae: 0.0797 - mse: 0.0115 - val_loss: 0.0173 - val_mae: 0.0997 - val_mse: 0.0173\n",
      "Epoch 30/100\n",
      "5927/5927 [==============================] - 14s 2ms/step - loss: 0.0104 - mae: 0.0753 - mse: 0.0104 - val_loss: 0.0092 - val_mae: 0.0671 - val_mse: 0.0092\n",
      "Epoch 31/100\n",
      "5927/5927 [==============================] - 14s 2ms/step - loss: 0.0031 - mae: 0.0392 - mse: 0.0031 - val_loss: 0.0035 - val_mae: 0.0393 - val_mse: 0.0035\n",
      "Epoch 32/100\n",
      "5927/5927 [==============================] - 14s 2ms/step - loss: 0.0029 - mae: 0.0390 - mse: 0.0029 - val_loss: 0.0031 - val_mae: 0.0358 - val_mse: 0.0031\n",
      "Epoch 33/100\n",
      "5927/5927 [==============================] - 14s 2ms/step - loss: 0.0028 - mae: 0.0383 - mse: 0.0028 - val_loss: 0.0032 - val_mae: 0.0374 - val_mse: 0.0032\n",
      "Epoch 34/100\n",
      "5927/5927 [==============================] - 14s 2ms/step - loss: 0.0027 - mae: 0.0375 - mse: 0.0027 - val_loss: 0.0032 - val_mae: 0.0376 - val_mse: 0.0032\n",
      "Epoch 35/100\n",
      "5927/5927 [==============================] - 14s 2ms/step - loss: 0.0026 - mae: 0.0365 - mse: 0.0026 - val_loss: 0.0043 - val_mae: 0.0456 - val_mse: 0.0043\n",
      "Epoch 36/100\n",
      "5927/5927 [==============================] - 14s 2ms/step - loss: 0.0024 - mae: 0.0360 - mse: 0.0024 - val_loss: 0.0029 - val_mae: 0.0346 - val_mse: 0.0029\n",
      "Epoch 37/100\n",
      "5927/5927 [==============================] - 14s 2ms/step - loss: 0.0024 - mae: 0.0353 - mse: 0.0024 - val_loss: 0.0037 - val_mae: 0.0410 - val_mse: 0.0037\n",
      "Epoch 38/100\n",
      "5927/5927 [==============================] - 14s 2ms/step - loss: 0.0023 - mae: 0.0352 - mse: 0.0023 - val_loss: 0.0030 - val_mae: 0.0368 - val_mse: 0.0030\n",
      "Epoch 39/100\n",
      "5927/5927 [==============================] - 14s 2ms/step - loss: 0.0023 - mae: 0.0344 - mse: 0.0023 - val_loss: 0.0030 - val_mae: 0.0359 - val_mse: 0.0030\n",
      "Epoch 40/100\n",
      "5927/5927 [==============================] - 14s 2ms/step - loss: 0.0021 - mae: 0.0339 - mse: 0.0021 - val_loss: 0.0028 - val_mae: 0.0352 - val_mse: 0.0028\n",
      "Epoch 41/100\n",
      "5927/5927 [==============================] - 14s 2ms/step - loss: 0.0021 - mae: 0.0332 - mse: 0.0021 - val_loss: 0.0030 - val_mae: 0.0378 - val_mse: 0.0030\n",
      "Epoch 42/100\n",
      "5927/5927 [==============================] - 14s 2ms/step - loss: 0.0020 - mae: 0.0329 - mse: 0.0020 - val_loss: 0.0029 - val_mae: 0.0353 - val_mse: 0.0029\n",
      "Epoch 43/100\n",
      "5927/5927 [==============================] - 14s 2ms/step - loss: 0.0021 - mae: 0.0327 - mse: 0.0021 - val_loss: 0.0026 - val_mae: 0.0330 - val_mse: 0.0026\n",
      "Epoch 44/100\n",
      "5927/5927 [==============================] - 14s 2ms/step - loss: 0.0020 - mae: 0.0323 - mse: 0.0020 - val_loss: 0.0025 - val_mae: 0.0327 - val_mse: 0.0025\n",
      "Epoch 45/100\n",
      "5927/5927 [==============================] - 14s 2ms/step - loss: 0.0020 - mae: 0.0321 - mse: 0.0020 - val_loss: 0.0030 - val_mae: 0.0361 - val_mse: 0.0030\n",
      "Epoch 46/100\n",
      "5927/5927 [==============================] - 14s 2ms/step - loss: 0.0019 - mae: 0.0318 - mse: 0.0019 - val_loss: 0.0030 - val_mae: 0.0368 - val_mse: 0.0030\n",
      "Epoch 47/100\n",
      "5927/5927 [==============================] - 14s 2ms/step - loss: 0.0018 - mae: 0.0313 - mse: 0.0018 - val_loss: 0.0027 - val_mae: 0.0339 - val_mse: 0.0027\n",
      "Epoch 48/100\n",
      "5927/5927 [==============================] - 14s 2ms/step - loss: 0.0018 - mae: 0.0309 - mse: 0.0018 - val_loss: 0.0024 - val_mae: 0.0314 - val_mse: 0.0024\n",
      "Epoch 49/100\n",
      "5927/5927 [==============================] - 14s 2ms/step - loss: 0.0018 - mae: 0.0307 - mse: 0.0018 - val_loss: 0.0033 - val_mae: 0.0381 - val_mse: 0.0033\n",
      "Epoch 50/100\n",
      "5927/5927 [==============================] - 14s 2ms/step - loss: 0.0017 - mae: 0.0303 - mse: 0.0017 - val_loss: 0.0025 - val_mae: 0.0317 - val_mse: 0.0025\n",
      "Epoch 51/100\n",
      "5927/5927 [==============================] - 14s 2ms/step - loss: 0.0017 - mae: 0.0298 - mse: 0.0017 - val_loss: 0.0023 - val_mae: 0.0298 - val_mse: 0.0023\n",
      "Epoch 52/100\n",
      "5927/5927 [==============================] - 14s 2ms/step - loss: 0.0017 - mae: 0.0295 - mse: 0.0017 - val_loss: 0.0022 - val_mae: 0.0290 - val_mse: 0.0022\n",
      "Epoch 53/100\n",
      "5927/5927 [==============================] - 14s 2ms/step - loss: 0.0016 - mae: 0.0292 - mse: 0.0016 - val_loss: 0.0025 - val_mae: 0.0332 - val_mse: 0.0025\n",
      "Epoch 54/100\n",
      "5927/5927 [==============================] - 14s 2ms/step - loss: 0.0016 - mae: 0.0293 - mse: 0.0016 - val_loss: 0.0024 - val_mae: 0.0326 - val_mse: 0.0024\n",
      "Epoch 55/100\n",
      "5927/5927 [==============================] - 14s 2ms/step - loss: 0.0015 - mae: 0.0286 - mse: 0.0015 - val_loss: 0.0030 - val_mae: 0.0358 - val_mse: 0.0030\n",
      "Epoch 56/100\n",
      "5927/5927 [==============================] - 14s 2ms/step - loss: 0.0015 - mae: 0.0289 - mse: 0.0015 - val_loss: 0.0020 - val_mae: 0.0289 - val_mse: 0.0020\n",
      "Epoch 57/100\n",
      "5927/5927 [==============================] - 14s 2ms/step - loss: 0.0015 - mae: 0.0282 - mse: 0.0015 - val_loss: 0.0023 - val_mae: 0.0303 - val_mse: 0.0023\n",
      "Epoch 58/100\n",
      "5927/5927 [==============================] - 14s 2ms/step - loss: 0.0015 - mae: 0.0283 - mse: 0.0015 - val_loss: 0.0025 - val_mae: 0.0316 - val_mse: 0.0025\n",
      "Epoch 59/100\n",
      "5927/5927 [==============================] - 14s 2ms/step - loss: 0.0014 - mae: 0.0278 - mse: 0.0014 - val_loss: 0.0020 - val_mae: 0.0277 - val_mse: 0.0020\n",
      "Epoch 60/100\n",
      "5927/5927 [==============================] - 14s 2ms/step - loss: 0.0014 - mae: 0.0277 - mse: 0.0014 - val_loss: 0.0021 - val_mae: 0.0296 - val_mse: 0.0021\n",
      "Epoch 61/100\n",
      "5927/5927 [==============================] - 14s 2ms/step - loss: 0.0014 - mae: 0.0272 - mse: 0.0014 - val_loss: 0.0018 - val_mae: 0.0251 - val_mse: 0.0018\n",
      "Epoch 62/100\n",
      "5927/5927 [==============================] - 14s 2ms/step - loss: 0.0014 - mae: 0.0275 - mse: 0.0014 - val_loss: 0.0019 - val_mae: 0.0269 - val_mse: 0.0019\n",
      "Epoch 63/100\n",
      "5927/5927 [==============================] - 14s 2ms/step - loss: 0.0013 - mae: 0.0271 - mse: 0.0013 - val_loss: 0.0018 - val_mae: 0.0256 - val_mse: 0.0018\n",
      "Epoch 64/100\n",
      "5927/5927 [==============================] - 14s 2ms/step - loss: 0.0013 - mae: 0.0267 - mse: 0.0013 - val_loss: 0.0022 - val_mae: 0.0302 - val_mse: 0.0022\n",
      "Epoch 65/100\n",
      "5927/5927 [==============================] - 14s 2ms/step - loss: 0.0013 - mae: 0.0266 - mse: 0.0013 - val_loss: 0.0020 - val_mae: 0.0271 - val_mse: 0.0020\n",
      "Epoch 66/100\n",
      "5927/5927 [==============================] - 14s 2ms/step - loss: 0.0013 - mae: 0.0263 - mse: 0.0013 - val_loss: 0.0019 - val_mae: 0.0280 - val_mse: 0.0019\n",
      "Epoch 67/100\n",
      "5927/5927 [==============================] - 14s 2ms/step - loss: 0.0012 - mae: 0.0262 - mse: 0.0012 - val_loss: 0.0021 - val_mae: 0.0306 - val_mse: 0.0021\n",
      "Epoch 68/100\n",
      "5927/5927 [==============================] - 14s 2ms/step - loss: 0.0012 - mae: 0.0259 - mse: 0.0012 - val_loss: 0.0024 - val_mae: 0.0333 - val_mse: 0.0024\n",
      "Epoch 69/100\n",
      "5927/5927 [==============================] - 14s 2ms/step - loss: 0.0012 - mae: 0.0260 - mse: 0.0012 - val_loss: 0.0023 - val_mae: 0.0304 - val_mse: 0.0023\n",
      "Epoch 70/100\n",
      "5927/5927 [==============================] - 14s 2ms/step - loss: 0.0012 - mae: 0.0257 - mse: 0.0012 - val_loss: 0.0022 - val_mae: 0.0305 - val_mse: 0.0022\n",
      "Epoch 71/100\n",
      "5927/5927 [==============================] - 14s 2ms/step - loss: 0.0012 - mae: 0.0257 - mse: 0.0012 - val_loss: 0.0021 - val_mae: 0.0272 - val_mse: 0.0021\n",
      "Epoch 72/100\n",
      "5927/5927 [==============================] - 14s 2ms/step - loss: 0.0012 - mae: 0.0255 - mse: 0.0012 - val_loss: 0.0019 - val_mae: 0.0273 - val_mse: 0.0019\n",
      "Epoch 73/100\n",
      "5927/5927 [==============================] - 14s 2ms/step - loss: 0.0012 - mae: 0.0254 - mse: 0.0012 - val_loss: 0.0030 - val_mae: 0.0366 - val_mse: 0.0030\n",
      "Epoch 74/100\n",
      "5927/5927 [==============================] - 14s 2ms/step - loss: 0.0012 - mae: 0.0254 - mse: 0.0012 - val_loss: 0.0018 - val_mae: 0.0261 - val_mse: 0.0018\n",
      "Epoch 75/100\n",
      "5927/5927 [==============================] - 14s 2ms/step - loss: 0.0011 - mae: 0.0249 - mse: 0.0011 - val_loss: 0.0023 - val_mae: 0.0332 - val_mse: 0.0023\n",
      "Epoch 76/100\n",
      "5927/5927 [==============================] - 14s 2ms/step - loss: 0.0011 - mae: 0.0247 - mse: 0.0011 - val_loss: 0.0017 - val_mae: 0.0245 - val_mse: 0.0017\n",
      "Epoch 77/100\n",
      "5927/5927 [==============================] - 14s 2ms/step - loss: 0.0011 - mae: 0.0246 - mse: 0.0011 - val_loss: 0.0020 - val_mae: 0.0278 - val_mse: 0.0020\n",
      "Epoch 78/100\n",
      "5927/5927 [==============================] - 14s 2ms/step - loss: 0.0011 - mae: 0.0245 - mse: 0.0011 - val_loss: 0.0023 - val_mae: 0.0321 - val_mse: 0.0023\n",
      "Epoch 79/100\n",
      "5927/5927 [==============================] - 14s 2ms/step - loss: 0.0011 - mae: 0.0243 - mse: 0.0011 - val_loss: 0.0019 - val_mae: 0.0262 - val_mse: 0.0019\n",
      "Epoch 80/100\n",
      "5927/5927 [==============================] - 14s 2ms/step - loss: 0.0011 - mae: 0.0242 - mse: 0.0011 - val_loss: 0.0019 - val_mae: 0.0270 - val_mse: 0.0019\n",
      "Epoch 81/100\n",
      "5927/5927 [==============================] - 14s 2ms/step - loss: 0.0010 - mae: 0.0238 - mse: 0.0010 - val_loss: 0.0014 - val_mae: 0.0215 - val_mse: 0.0014\n",
      "Epoch 82/100\n",
      "5927/5927 [==============================] - 14s 2ms/step - loss: 0.0010 - mae: 0.0236 - mse: 0.0010 - val_loss: 0.0020 - val_mae: 0.0274 - val_mse: 0.0020\n",
      "Epoch 83/100\n",
      "5927/5927 [==============================] - 14s 2ms/step - loss: 0.0010 - mae: 0.0236 - mse: 0.0010 - val_loss: 0.0015 - val_mae: 0.0222 - val_mse: 0.0015\n",
      "Epoch 84/100\n",
      "5927/5927 [==============================] - 14s 2ms/step - loss: 9.9833e-04 - mae: 0.0235 - mse: 9.9833e-04 - val_loss: 0.0016 - val_mae: 0.0235 - val_mse: 0.0016\n",
      "Epoch 85/100\n",
      "5927/5927 [==============================] - 14s 2ms/step - loss: 0.0010 - mae: 0.0236 - mse: 0.0010 - val_loss: 0.0027 - val_mae: 0.0366 - val_mse: 0.0027\n",
      "Epoch 86/100\n",
      "5927/5927 [==============================] - 14s 2ms/step - loss: 0.0010 - mae: 0.0237 - mse: 0.0010 - val_loss: 0.0017 - val_mae: 0.0247 - val_mse: 0.0017\n",
      "Epoch 87/100\n",
      "5927/5927 [==============================] - 14s 2ms/step - loss: 9.5786e-04 - mae: 0.0230 - mse: 9.5786e-04 - val_loss: 0.0017 - val_mae: 0.0253 - val_mse: 0.0017\n",
      "Epoch 88/100\n",
      "5927/5927 [==============================] - 14s 2ms/step - loss: 9.6653e-04 - mae: 0.0232 - mse: 9.6653e-04 - val_loss: 0.0023 - val_mae: 0.0312 - val_mse: 0.0023\n",
      "Epoch 89/100\n",
      "5927/5927 [==============================] - 14s 2ms/step - loss: 9.6552e-04 - mae: 0.0230 - mse: 9.6552e-04 - val_loss: 0.0016 - val_mae: 0.0238 - val_mse: 0.0016\n",
      "Epoch 90/100\n",
      "5927/5927 [==============================] - 14s 2ms/step - loss: 9.6156e-04 - mae: 0.0230 - mse: 9.6156e-04 - val_loss: 0.0016 - val_mae: 0.0233 - val_mse: 0.0016\n",
      "Epoch 91/100\n",
      "5927/5927 [==============================] - 14s 2ms/step - loss: 9.5274e-04 - mae: 0.0229 - mse: 9.5274e-04 - val_loss: 0.0015 - val_mae: 0.0230 - val_mse: 0.0015\n",
      "Epoch 92/100\n",
      "5927/5927 [==============================] - 14s 2ms/step - loss: 9.4984e-04 - mae: 0.0229 - mse: 9.4984e-04 - val_loss: 0.0020 - val_mae: 0.0288 - val_mse: 0.0020\n",
      "Epoch 93/100\n",
      "5927/5927 [==============================] - 14s 2ms/step - loss: 9.4299e-04 - mae: 0.0229 - mse: 9.4299e-04 - val_loss: 0.0020 - val_mae: 0.0285 - val_mse: 0.0020\n",
      "Epoch 94/100\n",
      "5927/5927 [==============================] - 14s 2ms/step - loss: 9.0879e-04 - mae: 0.0224 - mse: 9.0879e-04 - val_loss: 0.0023 - val_mae: 0.0332 - val_mse: 0.0023\n",
      "Epoch 95/100\n",
      "5927/5927 [==============================] - 14s 2ms/step - loss: 9.4494e-04 - mae: 0.0228 - mse: 9.4494e-04 - val_loss: 0.0014 - val_mae: 0.0209 - val_mse: 0.0014\n",
      "Epoch 96/100\n",
      "5927/5927 [==============================] - 14s 2ms/step - loss: 9.0993e-04 - mae: 0.0222 - mse: 9.0993e-04 - val_loss: 0.0015 - val_mae: 0.0217 - val_mse: 0.0015\n",
      "Epoch 97/100\n",
      "5927/5927 [==============================] - 14s 2ms/step - loss: 9.1649e-04 - mae: 0.0224 - mse: 9.1649e-04 - val_loss: 0.0014 - val_mae: 0.0217 - val_mse: 0.0014\n",
      "Epoch 98/100\n",
      "5927/5927 [==============================] - 14s 2ms/step - loss: 8.9202e-04 - mae: 0.0221 - mse: 8.9202e-04 - val_loss: 0.0017 - val_mae: 0.0260 - val_mse: 0.0017\n",
      "Epoch 99/100\n",
      "5927/5927 [==============================] - 14s 2ms/step - loss: 8.7328e-04 - mae: 0.0219 - mse: 8.7328e-04 - val_loss: 0.0016 - val_mae: 0.0230 - val_mse: 0.0016\n",
      "Epoch 100/100\n",
      "5927/5927 [==============================] - 14s 2ms/step - loss: 8.9190e-04 - mae: 0.0222 - mse: 8.9190e-04 - val_loss: 0.0018 - val_mae: 0.0257 - val_mse: 0.0018\n"
     ]
    }
   ],
   "source": [
    "FCNN_history = FCNN_model.fit(train_data, train_labels,\n",
    "                    epochs = 100,\n",
    "                    batch_size = 32,\n",
    "                    callbacks = [reduce_lr],\n",
    "                    validation_split = 0.3 \n",
    "                    )"
   ]
  },
  {
   "cell_type": "code",
   "execution_count": 9,
   "metadata": {},
   "outputs": [
    {
     "data": {
      "image/png": "[encoded data removed]",
      "text/plain": [
       "<Figure size 432x288 with 1 Axes>"
      ]
     },
     "metadata": {
      "needs_background": "light"
     },
     "output_type": "display_data"
    }
   ],
   "source": [
    "#loss plot of training and test data\n",
    "plt.plot(FCNN_history.history['loss'], label='loss')\n",
    "plt.plot(FCNN_history.history['val_loss'], label = 'val_loss')\n",
    "plt.xlabel('Epoch')\n",
    "plt.yscale('log')\n",
    "plt.ylabel('Loss')\n",
    "plt.legend(loc='upper right')\n",
    "plt.title(\"FCNN O-PPAC Loss Curve, Dropout 0, 2 Dense 256 Node, Adam 0.002, MSE, linear activation\")\n",
    "plt.show()"
   ]
  },
  {
   "cell_type": "code",
   "execution_count": 19,
   "metadata": {},
   "outputs": [],
   "source": [
    "# serialize model to JSON\n",
    "FCNNmodel = FCNN_model.to_json()\n",
    "with open(\"FCNNmodel\", \"w\") as json_file:\n",
    "    json_file.write(FCNNmodel)\n",
    "# serialize weights to HDF5\n",
    "FCNN_model.save_weights(\"FCNNmodel_weights_Khalil.h5\")"
   ]
  },
  {
   "cell_type": "code",
   "execution_count": 20,
   "metadata": {},
   "outputs": [],
   "source": [
    "#to reload model from before:\n",
    "\n",
    "    # load json and create model\n",
    "#model_file = open('FCNN', 'r')\n",
    "#loaded_FCNN_model = model_file.read()\n",
    "#model_file.close()\n",
    "#FCNN_model = model_from_json(loaded_FCNN_model)\n",
    "\n",
    "    # load weights into new model\n",
    "#FCNN_model.load_weights(\"FCNNmodel_weights_Khalil.h5\")"
   ]
  },
  {
   "cell_type": "code",
   "execution_count": 21,
   "metadata": {},
   "outputs": [
    {
     "name": "stdout",
     "output_type": "stream",
     "text": [
      "2117/2117 - 2s - loss: 8.9114e-04 - mae: 0.0204 - mse: 8.9114e-04\n"
     ]
    }
   ],
   "source": [
    "#separation of 'result' values (stats from test data)\n",
    "result = FCNN_model.evaluate(test_data, test_labels, verbose=2)"
   ]
  },
  {
   "cell_type": "code",
   "execution_count": 22,
   "metadata": {},
   "outputs": [],
   "source": [
    "#separation of 'prediction' values (training data)\n",
    "predictions = FCNN_model.predict(test_data)"
   ]
  },
  {
   "cell_type": "code",
   "execution_count": 23,
   "metadata": {},
   "outputs": [],
   "source": [
    "#separates x and y predicted values so there can be separate graphs for each\n",
    "x_pred = predictions[:,0]\n",
    "y_pred = predictions[:,1]\n",
    "\n",
    "#separates x and y labels for comparisons to the predicted locations\n",
    "x_test = np.array(test_labels[:,0])\n",
    "y_test = np.array(test_labels[:,1])"
   ]
  },
  {
   "cell_type": "code",
   "execution_count": 24,
   "metadata": {},
   "outputs": [
    {
     "data": {
      "image/png": "[encoded data removed]",
      "text/plain": [
       "<Figure size 432x288 with 1 Axes>"
      ]
     },
     "metadata": {
      "needs_background": "light"
     },
     "output_type": "display_data"
    }
   ],
   "source": [
    "#graph showing the accuracy of model by comparing predicted and true x values\n",
    "#should be as close to the diagonal as possible\n",
    "a = plt.axes(aspect='equal')\n",
    "plt.scatter(x_test, x_pred, s=6, marker = \"x\")\n",
    "plt.xlabel('True Values')\n",
    "plt.ylabel('Predictions')\n",
    "lims = [-50, 50]\n",
    "plt.xlim(lims)\n",
    "plt.ylim(lims)\n",
    "_ = plt.plot(lims, lims, linewidth = .5)\n",
    "plt.title(\"FCNN O-PPAC X Predictions vs True X Values\")\n",
    "plt.show()"
   ]
  },
  {
   "cell_type": "code",
   "execution_count": 25,
   "metadata": {},
   "outputs": [
    {
     "data": {
      "image/png": "[encoded data removed]",
      "text/plain": [
       "<Figure size 432x288 with 1 Axes>"
      ]
     },
     "metadata": {
      "needs_background": "light"
     },
     "output_type": "display_data"
    }
   ],
   "source": [
    "#graph showing the accuracy of model by comparing predicted and true y values\n",
    "#should be as close to the diagonal as possible\n",
    "a = plt.axes(aspect='equal')\n",
    "plt.scatter(y_test, y_pred, s=6, marker = \"x\")\n",
    "plt.xlabel('True Values')\n",
    "plt.ylabel('Predictions')\n",
    "lims = [-50, 50]\n",
    "plt.xlim(lims)\n",
    "plt.ylim(lims)\n",
    "_ = plt.plot(lims, lims, linewidth = .5)\n",
    "plt.title(\"FCNN O-PPAC Y Predictions vs True Y Values\")\n",
    "plt.show()"
   ]
  },
  {
   "cell_type": "code",
   "execution_count": 26,
   "metadata": {},
   "outputs": [
    {
     "name": "stdout",
     "output_type": "stream",
     "text": [
      "[1.4721336364746094]\n"
     ]
    }
   ],
   "source": [
    "#to find the locations of largest error within my predicted x values\n",
    "x_error = x_pred - x_test\n",
    "\n",
    "#this takes all the points with error greater than 1 mm\n",
    "xerror_list = [err for (idx, err) in enumerate(x_error) if err >= 1]\n",
    "print(xerror_list)"
   ]
  },
  {
   "cell_type": "code",
   "execution_count": 27,
   "metadata": {},
   "outputs": [
    {
     "name": "stdout",
     "output_type": "stream",
     "text": [
      "[]\n"
     ]
    }
   ],
   "source": [
    "#to find the locations of largest error within my predicted y values (same as the x code above but specific to y)\n",
    "y_error = y_pred - y_test \n",
    "\n",
    "yerror_list = [ err for (idx, err) in enumerate(y_error) if err >= 1]\n",
    "print(yerror_list)"
   ]
  },
  {
   "cell_type": "code",
   "execution_count": 28,
   "metadata": {},
   "outputs": [
    {
     "name": "stdout",
     "output_type": "stream",
     "text": [
      "67724\n"
     ]
    }
   ],
   "source": [
    "# setting up for residue plot of x-error from the model\n",
    "error_list_x = [i for i in x_error if abs(i) <= .5]\n",
    "print(len(error_list_x))"
   ]
  },
  {
   "cell_type": "code",
   "execution_count": 29,
   "metadata": {},
   "outputs": [
    {
     "name": "stdout",
     "output_type": "stream",
     "text": [
      "67727\n"
     ]
    }
   ],
   "source": [
    "# setting up for residue plot of y-error from the model\n",
    "error_list_y = [i for i in y_error if abs(i) <= .5]\n",
    "print(len(error_list_y))"
   ]
  },
  {
   "cell_type": "code",
   "execution_count": 30,
   "metadata": {},
   "outputs": [],
   "source": [
    "def gaussianpdf(x, k, sigma, mu):\n",
    "    return k*np.exp(-0.5*((x-mu)/sigma)**2)\n",
    "\n",
    "def full_half(data):\n",
    "    bin_heights, bin_borders, _ = plt.hist(data, bins='auto', label='Residual')\n",
    "    bin_centers = bin_borders[:-1] + np.diff(bin_borders) / 2\n",
    "    popt, _ = curve_fit(gaussianpdf, bin_centers, bin_heights, p0=[60., 10., 30.])\n",
    "    fwhm = popt[1]*2.355\n",
    "    \n",
    "    x_interval_for_fit = np.linspace(bin_borders[0], bin_borders[-1], 10000) #the x interval the fit is put over\n",
    "    plt.plot(x_interval_for_fit, gaussianpdf(x_interval_for_fit, *popt), label='Gaussian Fit')\n",
    "    gauss = gaussianpdf(x_interval_for_fit, *popt) #y data for the gaussian fit if needed to be plotted separately\n",
    "    plt.legend(bbox_to_anchor=(1.05, 1), loc='upper left', borderaxespad=0.)\n",
    "    return np.abs(fwhm)"
   ]
  },
  {
   "cell_type": "code",
   "execution_count": 31,
   "metadata": {},
   "outputs": [
    {
     "data": {
      "image/png": "[encoded data removed]",
      "text/plain": [
       "<Figure size 432x288 with 1 Axes>"
      ]
     },
     "metadata": {
      "needs_background": "light"
     },
     "output_type": "display_data"
    },
    {
     "name": "stdout",
     "output_type": "stream",
     "text": [
      "0.033106904538943153\n"
     ]
    }
   ],
   "source": [
    "x_fwhm = full_half(error_list_x)\n",
    "plt.title('FCNN X Residual')\n",
    "plt.show()\n",
    "print(x_fwhm)"
   ]
  },
  {
   "cell_type": "code",
   "execution_count": 32,
   "metadata": {},
   "outputs": [
    {
     "data": {
      "image/png": "[encoded data removed]",
      "text/plain": [
       "<Figure size 432x288 with 1 Axes>"
      ]
     },
     "metadata": {
      "needs_background": "light"
     },
     "output_type": "display_data"
    },
    {
     "name": "stdout",
     "output_type": "stream",
     "text": [
      "0.05921131790925778\n"
     ]
    }
   ],
   "source": [
    "y_fwhm = full_half(error_list_y)\n",
    "plt.title('FCNN Y Residual')\n",
    "plt.show()\n",
    "print(y_fwhm)"
   ]
  },
  {
   "cell_type": "code",
   "execution_count": null,
   "metadata": {},
   "outputs": [],
   "source": []
  }
 ],
 "metadata": {
  "kernelspec": {
   "display_name": "Python 3",
   "language": "python",
   "name": "python3"
  },
  "language_info": {
   "codemirror_mode": {
    "name": "ipython",
    "version": 3
   },
   "file_extension": ".py",
   "mimetype": "text/x-python",
   "name": "python",
   "nbconvert_exporter": "python",
   "pygments_lexer": "ipython3",
   "version": "3.6.8"
  }
 },
 "nbformat": 4,
 "nbformat_minor": 4
}
